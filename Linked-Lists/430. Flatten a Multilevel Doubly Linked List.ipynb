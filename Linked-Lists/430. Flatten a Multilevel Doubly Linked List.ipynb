{
 "cells": [
  {
   "cell_type": "code",
   "execution_count": null,
   "id": "74bdf527",
   "metadata": {},
   "outputs": [],
   "source": [
    "# Problem Link: https://leetcode.com/problems/flatten-a-multilevel-doubly-linked-list/\n",
    "\n",
    "\"\"\"\n",
    "# Definition for a Node.\n",
    "class Node:\n",
    "    def __init__(self, val, prev, next, child):\n",
    "        self.val = val\n",
    "        self.prev = prev\n",
    "        self.next = next\n",
    "        self.child = child\n",
    "\"\"\"\n",
    "\n",
    "class Solution:\n",
    "    def flatten(self, head: 'Optional[Node]') -> 'Optional[Node]':\n",
    "        \n",
    "        if not head or (not head.child and not head.next): return head\n",
    "        \n",
    "        def recursion(h):\n",
    "            \n",
    "            n = h\n",
    "            while n:\n",
    "                \n",
    "                if n.child:\n",
    "                    tmp = n.next\n",
    "                    r, pre = recursion(n.child)\n",
    "                    n.next, r.prev, pre.next, n.child = r, n, tmp, None\n",
    "                    if tmp: tmp.prev = pre\n",
    "                        \n",
    "                pre = n\n",
    "                n = n.next\n",
    "            \n",
    "            return h, pre\n",
    "        \n",
    "        recursion(head)\n",
    "        return head\n",
    "            \n",
    "            \n",
    "            \n",
    "            \n",
    "            \n",
    "        \n",
    "            \n",
    "            \n",
    "            \n",
    "        \n",
    "        "
   ]
  }
 ],
 "metadata": {
  "kernelspec": {
   "display_name": "Python 3 (ipykernel)",
   "language": "python",
   "name": "python3"
  },
  "language_info": {
   "codemirror_mode": {
    "name": "ipython",
    "version": 3
   },
   "file_extension": ".py",
   "mimetype": "text/x-python",
   "name": "python",
   "nbconvert_exporter": "python",
   "pygments_lexer": "ipython3",
   "version": "3.9.7"
  }
 },
 "nbformat": 4,
 "nbformat_minor": 5
}
