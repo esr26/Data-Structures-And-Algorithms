{
 "cells": [
  {
   "cell_type": "code",
   "execution_count": null,
   "id": "d6ac58c1",
   "metadata": {},
   "outputs": [],
   "source": [
    "# Definition for singly-linked list.\n",
    "# class ListNode:\n",
    "#     def __init__(self, val=0, next=None):\n",
    "#         self.val = val\n",
    "#         self.next = next\n",
    "class Solution:\n",
    "    def deleteDuplicates(self, head: Optional[ListNode]) -> Optional[ListNode]:\n",
    "        \n",
    "        if not head or not head.next: return head\n",
    "        \n",
    "        prev_tmp, tmp, slow = None, None, head\n",
    "        \n",
    "        while slow:\n",
    "            \n",
    "            if tmp and tmp.val == slow.val:\n",
    "                while slow and (slow.val == tmp.val):\n",
    "                    slow = slow.next\n",
    "                if prev_tmp: \n",
    "                    prev_tmp.next = slow\n",
    "                    tmp = prev_tmp\n",
    "                else:\n",
    "                    head = slow \n",
    "                    tmp = None\n",
    "                continue\n",
    "                \n",
    "            prev_tmp = tmp\n",
    "            tmp = slow\n",
    "            slow = slow.next\n",
    "            \n",
    "        return head"
   ]
  }
 ],
 "metadata": {
  "kernelspec": {
   "display_name": "Python 3 (ipykernel)",
   "language": "python",
   "name": "python3"
  },
  "language_info": {
   "codemirror_mode": {
    "name": "ipython",
    "version": 3
   },
   "file_extension": ".py",
   "mimetype": "text/x-python",
   "name": "python",
   "nbconvert_exporter": "python",
   "pygments_lexer": "ipython3",
   "version": "3.9.7"
  }
 },
 "nbformat": 4,
 "nbformat_minor": 5
}
