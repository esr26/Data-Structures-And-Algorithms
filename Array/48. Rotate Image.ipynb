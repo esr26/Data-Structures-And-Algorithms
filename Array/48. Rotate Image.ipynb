{
 "cells": [
  {
   "cell_type": "code",
   "execution_count": null,
   "id": "74bdf527",
   "metadata": {},
   "outputs": [],
   "source": [
    "# Problem Link: https://leetcode.com/problems/rotate-image/\n",
    "\n",
    "class Solution:\n",
    "    def rotate(self, A):\n",
    "        n = len(A)\n",
    "        for i in range(n):\n",
    "            for j in range(i):\n",
    "                A[i][j], A[j][i] = A[j][i], A[i][j]\n",
    "        for row in A:\n",
    "            for j in range(n/2):\n",
    "                row[j], row[~j] = row[~j], row[j]\n",
    "            \n",
    "            \n",
    "            \n",
    "        \n",
    "            \n",
    "            \n",
    "            \n",
    "        \n",
    "        "
   ]
  }
 ],
 "metadata": {
  "kernelspec": {
   "display_name": "Python 3 (ipykernel)",
   "language": "python",
   "name": "python3"
  },
  "language_info": {
   "codemirror_mode": {
    "name": "ipython",
    "version": 3
   },
   "file_extension": ".py",
   "mimetype": "text/x-python",
   "name": "python",
   "nbconvert_exporter": "python",
   "pygments_lexer": "ipython3",
   "version": "3.9.7"
  }
 },
 "nbformat": 4,
 "nbformat_minor": 5
}
