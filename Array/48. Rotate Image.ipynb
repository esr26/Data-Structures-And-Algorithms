{
 "cells": [
  {
   "cell_type": "code",
   "execution_count": null,
   "id": "74bdf527",
   "metadata": {},
   "outputs": [],
   "source": [
    "# Problem Link: https://leetcode.com/problems/palindrome-linked-list/\n",
    "\n",
    "# Definition for singly-linked list.\n",
    "# class ListNode:\n",
    "#     def __init__(self, val=0, next=None):\n",
    "#         self.val = val\n",
    "#         self.next = next\n",
    "class Solution:\n",
    "    def isPalindrome(self, head: Optional[ListNode]) -> bool:\n",
    "        \n",
    "        if not head or not head.next: return True\n",
    "        \n",
    "        slow = fast = head\n",
    "        \n",
    "        while fast.next and fast.next.next:\n",
    "            fast = fast.next.next\n",
    "            slow = slow.next\n",
    "        \n",
    "\n",
    "        prev, n = None, slow.next\n",
    "\n",
    "        while n:\n",
    "            tmp, n.next, prev = n.next, prev, n\n",
    "            n = tmp\n",
    "          \n",
    "        slow.next = prev\n",
    "        n1, n2 = head, slow.next\n",
    "        while n2:\n",
    "            if n1.val != n2.val:\n",
    "                return False\n",
    "            n1, n2 = n1.next, n2.next\n",
    "        \n",
    "        return True\n",
    "            \n",
    "            \n",
    "            \n",
    "            \n",
    "        \n",
    "            \n",
    "            \n",
    "            \n",
    "            \n",
    "        \n",
    "            \n",
    "            \n",
    "            \n",
    "        \n",
    "        "
   ]
  }
 ],
 "metadata": {
  "kernelspec": {
   "display_name": "Python 3 (ipykernel)",
   "language": "python",
   "name": "python3"
  },
  "language_info": {
   "codemirror_mode": {
    "name": "ipython",
    "version": 3
   },
   "file_extension": ".py",
   "mimetype": "text/x-python",
   "name": "python",
   "nbconvert_exporter": "python",
   "pygments_lexer": "ipython3",
   "version": "3.9.7"
  }
 },
 "nbformat": 4,
 "nbformat_minor": 5
}
