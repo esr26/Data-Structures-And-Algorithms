{
  "nbformat": 4,
  "nbformat_minor": 0,
  "metadata": {
    "colab": {
      "name": "3Sum.ipynb",
      "provenance": []
    },
    "kernelspec": {
      "name": "python3",
      "display_name": "Python 3"
    },
    "language_info": {
      "name": "python"
    }
  },
  "cells": [
    {
      "cell_type": "code",
      "execution_count": null,
      "metadata": {
        "id": "lDaMHPqwKOrf"
      },
      "outputs": [],
      "source": [
        "# Problem Link: https://leetcode.com/problems/3sum/\n",
        "\n",
        "class Solution:\n",
        "    def threeSum(self, nums: List[int]) -> List[List[int]]:\n",
        "        \n",
        "        res, i = [], 0\n",
        "        nums.sort()\n",
        "        \n",
        "        while i < len(nums):\n",
        "            l, r = i + 1, len(nums)-1\n",
        "            \n",
        "            if i > 0 and nums[i] == nums[i-1]: i+=1; continue\n",
        "            while l < r:\n",
        "                \n",
        "                sum_ = nums[i] + nums[l] + nums[r]\n",
        "         \n",
        "                if sum_ < 0:\n",
        "                    l += 1\n",
        "                \n",
        "                elif sum_ > 0: r -= 1\n",
        "                \n",
        "                else:\n",
        "                    res.append([nums[i], nums[l], nums[r]])\n",
        "                    l += 1\n",
        "                    while l < r and nums[l-1] == nums[l]:\n",
        "                        l += 1\n",
        "                    \n",
        "            i += 1\n",
        "           \n",
        "            \n",
        "                    \n",
        "        return res\n",
        "    \n",
        "        # An Upvote will be encouraging\n",
        "                \n",
        "                "
      ]
    }
  ]
}