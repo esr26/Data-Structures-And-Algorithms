{
  "nbformat": 4,
  "nbformat_minor": 0,
  "metadata": {
    "colab": {
      "name": "1. Two Sum",
      "provenance": []
    },
    "kernelspec": {
      "name": "python3",
      "display_name": "Python 3"
    },
    "language_info": {
      "name": "python"
    }
  },
  "cells": [
    {
      "cell_type": "code",
      "execution_count": null,
      "metadata": {
        "id": "W1aFH-8kdg1N"
      },
      "outputs": [],
      "source": [
        "# Problem Link: https://leetcode.com/problems/two-sum/\n",
        "\n",
        "class Solution:\n",
        "    def twoSum(self, nums: List[int], target: int) -> List[int]:\n",
        "        \n",
        "        d = {}\n",
        "        for i, j in enumerate(nums):\n",
        "            r = target - j\n",
        "            if r in d: return [d[r], i]\n",
        "            d[j] = i"
      ]
    }
  ]
}