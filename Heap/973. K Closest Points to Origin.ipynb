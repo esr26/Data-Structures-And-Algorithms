{
 "cells": [
  {
   "cell_type": "code",
   "execution_count": null,
   "id": "74bdf527",
   "metadata": {},
   "outputs": [],
   "source": [
    "# Problem Link: https://leetcode.com/problems/k-closest-points-to-origin/\n",
    "\n",
    "import math as m\n",
    "class Solution:\n",
    "    def kClosest(self, points: List[List[int]], k: int) -> List[List[int]]:\n",
    "        \n",
    "        q, res = [], []\n",
    "        \n",
    "        for i in range(len(points)):\n",
    "            heapq.heappush(q, (m.sqrt((points[i][0]**2)+(points[i][1]**2)), points[i]))\n",
    "            \n",
    "        for _ in range(k): \n",
    "            res.append(heapq.heappop(q)[1])\n",
    "            \n",
    "        return res\n",
    "        "
   ]
  }
 ],
 "metadata": {
  "kernelspec": {
   "display_name": "Python 3 (ipykernel)",
   "language": "python",
   "name": "python3"
  },
  "language_info": {
   "codemirror_mode": {
    "name": "ipython",
    "version": 3
   },
   "file_extension": ".py",
   "mimetype": "text/x-python",
   "name": "python",
   "nbconvert_exporter": "python",
   "pygments_lexer": "ipython3",
   "version": "3.9.7"
  }
 },
 "nbformat": 4,
 "nbformat_minor": 5
}
